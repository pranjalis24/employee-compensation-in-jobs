{
  "nbformat": 4,
  "nbformat_minor": 0,
  "metadata": {
    "colab": {
      "provenance": []
    },
    "kernelspec": {
      "name": "ir",
      "display_name": "R"
    },
    "language_info": {
      "name": "R"
    }
  },
  "cells": [
    {
      "cell_type": "markdown",
      "source": [
        "#EMPLOYEE COMPENSATION IN JOBS\n",
        "\n",
        "##By Pranjali Singh\n",
        "\n",
        "The aim of the analysis is to develop an data analysis article for San Francisco Chronicle newspaper. As this data includes all the details of salary and other compensations that are being paid to the employees of San Francisco since the year 2013. The analysis will check onhow many Employees are working in San Francisco department wise and organization wise, tracking the employment rate over the years, comparision of the overtime hours to the total amount of benefits. Graphical analysis of Compensation over the years will also help to analyse how much the Government is taking care of its Employees. Study over other benefits like Retirement, Health and Dental with total Salaries drawn shall reflect a glimpse of relationship of employers with their employees.\n",
        "The data will also show some additional variables such as the job title and job family in order to increase understanding of the data.\n"
      ],
      "metadata": {
        "id": "xSifqDprEO9r"
      }
    },
    {
      "cell_type": "markdown",
      "source": [
        "##DATA EXPLORATION\n",
        "\n",
        "The four different aspects of the data selected are: Employee Identifier, Total Salaries, Total benefits, Total compensation.\n"
      ],
      "metadata": {
        "id": "FJmPjnbjE7Bp"
      }
    },
    {
      "cell_type": "code",
      "source": [
        "dataCensus <- read.csv(\"/employee-compensation.csv\")"
      ],
      "metadata": {
        "id": "DIbG6ZpTFF6a"
      },
      "execution_count": 74,
      "outputs": []
    },
    {
      "cell_type": "code",
      "source": [
        "#1\n",
        "summary(dataCensus)"
      ],
      "metadata": {
        "id": "1MGxqehsGJOV",
        "colab": {
          "base_uri": "https://localhost:8080/",
          "height": 874
        },
        "outputId": "570ee622-d9e2-4552-a8f1-52a6929cf9ab"
      },
      "execution_count": 75,
      "outputs": [
        {
          "output_type": "display_data",
          "data": {
            "text/plain": [
              " Organization.Group.Code Job.Family.Code      Job.Code        \n",
              " Min.   :1.000           Length:683277      Length:683277     \n",
              " 1st Qu.:2.000           Class :character   Class :character  \n",
              " Median :2.000           Mode  :character   Mode  :character  \n",
              " Mean   :2.978                                                \n",
              " 3rd Qu.:4.000                                                \n",
              " Max.   :7.000                                                \n",
              "                                                              \n",
              "  Year.Type              Year      Organization.Group Department.Code   \n",
              " Length:683277      Min.   :2013   Length:683277      Length:683277     \n",
              " Class :character   1st Qu.:2015   Class :character   Class :character  \n",
              " Mode  :character   Median :2017   Mode  :character   Mode  :character  \n",
              "                    Mean   :2016                                        \n",
              "                    3rd Qu.:2018                                        \n",
              "                    Max.   :2020                                        \n",
              "                                                                        \n",
              "  Department          Union.Code       Union            Job.Family       \n",
              " Length:683277      Min.   :  1.0   Length:683277      Length:683277     \n",
              " Class :character   1st Qu.:250.0   Class :character   Class :character  \n",
              " Mode  :character   Median :535.0   Mode  :character   Mode  :character  \n",
              "                    Mean   :492.5                                        \n",
              "                    3rd Qu.:790.0                                        \n",
              "                    Max.   :990.0                                        \n",
              "                    NA's   :351                                          \n",
              "     Job            Employee.Identifier    Salaries         Overtime     \n",
              " Length:683277      Min.   :       0    Min.   :-68772   Min.   :-12309  \n",
              " Class :character   1st Qu.:   25450    1st Qu.: 29010   1st Qu.:     0  \n",
              " Mode  :character   Median :   50975    Median : 67899   Median :     0  \n",
              "                    Mean   :17087113    Mean   : 69466   Mean   :  5475  \n",
              "                    3rd Qu.:37377031    3rd Qu.:100417   3rd Qu.:  4223  \n",
              "                    Max.   :44346433    Max.   :651937   Max.   :321523  \n",
              "                                                                         \n",
              " Other.Salaries      Total.Salary      Retirement     Health.and.Dental\n",
              " Min.   :-19131.1   Min.   :-68772   Min.   :-30621   Min.   :-3831    \n",
              " 1st Qu.:     0.0   1st Qu.: 31676   1st Qu.:  4663   1st Qu.: 4781    \n",
              " Median :   706.2   Median : 74870   Median : 13858   Median :12501    \n",
              " Mean   :  3820.5   Mean   : 78571   Mean   : 13659   Mean   : 9947    \n",
              " 3rd Qu.:  4362.9   3rd Qu.:112666   3rd Qu.: 20152   3rd Qu.:14037    \n",
              " Max.   :568163.1   Max.   :658868   Max.   :121953   Max.   :59405    \n",
              "                                                                       \n",
              " Other.Benefits   Total.Benefits   Total.Compensation\n",
              " Min.   :-10636   Min.   :-21295   Min.   :-74083    \n",
              " 1st Qu.:  1870   1st Qu.: 11716   1st Qu.: 44439    \n",
              " Median :  4877   Median : 32521   Median :107529    \n",
              " Mean   :  5039   Mean   : 28645   Mean   :107216    \n",
              " 3rd Qu.:  7526   3rd Qu.: 40916   3rd Qu.:154170    \n",
              " Max.   : 36815   Max.   :151645   Max.   :807625    \n",
              "                                                     "
            ]
          },
          "metadata": {}
        }
      ]
    },
    {
      "cell_type": "markdown",
      "source": [
        "From the above output, the mean total salaries of the employees is 78571, mean overtime is 5475,mean of other benefits is 5039 and total compensation is 107216.  "
      ],
      "metadata": {
        "id": "EOtPMihgGfqr"
      }
    },
    {
      "cell_type": "code",
      "source": [
        "#2 Showing the number of Rows and Columns\n",
        "dim(dataCensus)"
      ],
      "metadata": {
        "id": "pZIAJKRfJoe9",
        "colab": {
          "base_uri": "https://localhost:8080/",
          "height": 34
        },
        "outputId": "495f858c-5f2e-46a0-e01e-9492d188f6a9"
      },
      "execution_count": 76,
      "outputs": [
        {
          "output_type": "display_data",
          "data": {
            "text/html": [
              "<style>\n",
              ".list-inline {list-style: none; margin:0; padding: 0}\n",
              ".list-inline>li {display: inline-block}\n",
              ".list-inline>li:not(:last-child)::after {content: \"\\00b7\"; padding: 0 .5ex}\n",
              "</style>\n",
              "<ol class=list-inline><li>683277</li><li>22</li></ol>\n"
            ],
            "text/markdown": "1. 683277\n2. 22\n\n\n",
            "text/latex": "\\begin{enumerate*}\n\\item 683277\n\\item 22\n\\end{enumerate*}\n",
            "text/plain": [
              "[1] 683277     22"
            ]
          },
          "metadata": {}
        }
      ]
    },
    {
      "cell_type": "markdown",
      "source": [
        "This shows that there is 683277 rows and 22 columns in the provided data. "
      ],
      "metadata": {
        "id": "OBuH9rz_Jvq-"
      }
    },
    {
      "cell_type": "code",
      "source": [
        "#3 structure of variables\n",
        "str(dataCensus)"
      ],
      "metadata": {
        "colab": {
          "base_uri": "https://localhost:8080/"
        },
        "id": "kpUUKpLCJ9U7",
        "outputId": "0d65f600-352e-4a7c-f5d6-5d4352d2cf91"
      },
      "execution_count": 77,
      "outputs": [
        {
          "output_type": "stream",
          "name": "stdout",
          "text": [
            "'data.frame':\t683277 obs. of  22 variables:\n",
            " $ Organization.Group.Code: int  1 1 1 1 1 1 1 1 1 1 ...\n",
            " $ Job.Family.Code        : chr  \"1000\" \"1000\" \"1000\" \"1000\" ...\n",
            " $ Job.Code               : chr  \"1021\" \"1023\" \"1031\" \"1054\" ...\n",
            " $ Year.Type              : chr  \"Calendar\" \"Calendar\" \"Calendar\" \"Calendar\" ...\n",
            " $ Year                   : int  2013 2013 2013 2013 2013 2013 2013 2013 2013 2013 ...\n",
            " $ Organization.Group     : chr  \"Public Protection\" \"Public Protection\" \"Public Protection\" \"Public Protection\" ...\n",
            " $ Department.Code        : chr  \"ADP\" \"ADP\" \"ADP\" \"ADP\" ...\n",
            " $ Department             : chr  \"ADP Adult Probation\" \"ADP Adult Probation\" \"ADP Adult Probation\" \"ADP Adult Probation\" ...\n",
            " $ Union.Code             : int  21 21 21 21 21 21 21 21 21 21 ...\n",
            " $ Union                  : chr  \"Prof & Tech Engineers - Miscellaneous, Local 21\" \"Prof & Tech Engineers - Miscellaneous, Local 21\" \"Prof & Tech Engineers - Miscellaneous, Local 21\" \"Prof & Tech Engineers - Miscellaneous, Local 21\" ...\n",
            " $ Job.Family             : chr  \"Information Systems\" \"Information Systems\" \"Information Systems\" \"Information Systems\" ...\n",
            " $ Job                    : chr  \"IS Administrator 1\" \"IS Administrator 3\" \"IS Trainer-Assistant\" \"IS Business Analyst-Principal\" ...\n",
            " $ Employee.Identifier    : int  37730 26574 8148 27436 37730 36223 51426 26574 37983 16858 ...\n",
            " $ Salaries               : num  57535 57678 63533 101275 5084 ...\n",
            " $ Overtime               : num  0 0 0 0 0 0 0 0 0 0 ...\n",
            " $ Other.Salaries         : num  0 0 0 -7059 0 ...\n",
            " $ Total.Salary           : num  57535 57678 63533 94216 5084 ...\n",
            " $ Retirement             : num  11253 10285 12496 19644 1084 ...\n",
            " $ Health.and.Dental      : num  11961 7177 12918 12918 957 ...\n",
            " $ Other.Benefits         : num  4533 4755 4703 7459 388 ...\n",
            " $ Total.Benefits         : num  27747 22217 30117 40021 2428 ...\n",
            " $ Total.Compensation     : num  85282 79895 93650 134237 7512 ...\n"
          ]
        }
      ]
    },
    {
      "cell_type": "code",
      "source": [
        "#4\n",
        "Highest_Salary <- max(dataCensus$Salaries)\n",
        "Lowest_Salary <-min(dataCensus$Salaries)\n",
        "print(Highest_Salary) \n",
        "print(Lowest_Salary)\n"
      ],
      "metadata": {
        "colab": {
          "base_uri": "https://localhost:8080/"
        },
        "id": "7bLWAaYkKB_u",
        "outputId": "a2d8d850-3450-4fab-cdcc-99d41fee7d75"
      },
      "execution_count": 78,
      "outputs": [
        {
          "output_type": "stream",
          "name": "stdout",
          "text": [
            "[1] 651936.7\n",
            "[1] -68771.78\n"
          ]
        }
      ]
    },
    {
      "cell_type": "markdown",
      "source": [
        "Maximum amount of salary being withdrawn is 651936.71."
      ],
      "metadata": {
        "id": "QO5ea4IRmPOp"
      }
    },
    {
      "cell_type": "code",
      "source": [
        "mostcompensation <- max(dataCensus$Total.Compensation)\n",
        "mostcompensation"
      ],
      "metadata": {
        "colab": {
          "base_uri": "https://localhost:8080/",
          "height": 34
        },
        "id": "PgryUNVlPPG3",
        "outputId": "761e587a-d9fd-494c-f862-3c84d91ea3f8"
      },
      "execution_count": 82,
      "outputs": [
        {
          "output_type": "display_data",
          "data": {
            "text/html": [
              "807625.25"
            ],
            "text/markdown": "807625.25",
            "text/latex": "807625.25",
            "text/plain": [
              "[1] 807625.2"
            ]
          },
          "metadata": {}
        }
      ]
    },
    {
      "cell_type": "markdown",
      "source": [
        "Maximum compensation given is 807625.25 . "
      ],
      "metadata": {
        "id": "5t1abkdOPcg5"
      }
    },
    {
      "cell_type": "code",
      "source": [
        "#5\n",
        "table1 = table(dataCensus$Job)\n",
        "table1 = as.data.frame(as.table(table1))\n",
        "table1"
      ],
      "metadata": {
        "id": "9ILx9A07QRdG",
        "colab": {
          "base_uri": "https://localhost:8080/",
          "height": 1000
        },
        "outputId": "5fb6dd85-27eb-4dea-9599-48b2be4169f0"
      },
      "execution_count": 79,
      "outputs": [
        {
          "output_type": "display_data",
          "data": {
            "text/html": [
              "<table class=\"dataframe\">\n",
              "<caption>A data.frame: 1350 × 2</caption>\n",
              "<thead>\n",
              "\t<tr><th scope=col>Var1</th><th scope=col>Freq</th></tr>\n",
              "\t<tr><th scope=col>&lt;fct&gt;</th><th scope=col>&lt;int&gt;</th></tr>\n",
              "</thead>\n",
              "<tbody>\n",
              "\t<tr><td>                                        </td><td>   5</td></tr>\n",
              "\t<tr><td>Account Clerk                           </td><td>1312</td></tr>\n",
              "\t<tr><td>Accountant I                            </td><td>  29</td></tr>\n",
              "\t<tr><td>Accountant II                           </td><td>1160</td></tr>\n",
              "\t<tr><td>Accountant II (OCII)                    </td><td>   8</td></tr>\n",
              "\t<tr><td>Accountant III                          </td><td>2096</td></tr>\n",
              "\t<tr><td>Accountant III (OCII)                   </td><td>   5</td></tr>\n",
              "\t<tr><td>Accountant Intern                       </td><td> 607</td></tr>\n",
              "\t<tr><td>Accountant IV                           </td><td>1114</td></tr>\n",
              "\t<tr><td>Accounting Supervisor (OCII)            </td><td>   8</td></tr>\n",
              "\t<tr><td>Acpo,Juvp, Juv Prob (SFERS)             </td><td>   6</td></tr>\n",
              "\t<tr><td>ACPO,JuvP, Juv Prob (SFERS)             </td><td>   7</td></tr>\n",
              "\t<tr><td>Acupuncturist                           </td><td>  17</td></tr>\n",
              "\t<tr><td>Adm, SFGH Medical Center                </td><td>   8</td></tr>\n",
              "\t<tr><td>Admin Analyst 3                         </td><td>  56</td></tr>\n",
              "\t<tr><td>Admin Hearing Examiner                  </td><td>  94</td></tr>\n",
              "\t<tr><td>Administrative Analyst                  </td><td>3119</td></tr>\n",
              "\t<tr><td>Administrative Analyst I                </td><td>  12</td></tr>\n",
              "\t<tr><td>Administrative Analyst II               </td><td>  51</td></tr>\n",
              "\t<tr><td>Administrative Engineer                 </td><td> 190</td></tr>\n",
              "\t<tr><td>Administrative Hearing Sup              </td><td>   4</td></tr>\n",
              "\t<tr><td>Administrative Services Mgr             </td><td> 119</td></tr>\n",
              "\t<tr><td>Administrator, Department Of Public Heal</td><td>  11</td></tr>\n",
              "\t<tr><td>Administrator, DPH                      </td><td>  12</td></tr>\n",
              "\t<tr><td>Administrator, Retirement Services      </td><td>  10</td></tr>\n",
              "\t<tr><td>Admission Attendant                     </td><td> 889</td></tr>\n",
              "\t<tr><td>Agricultural Inspector                  </td><td>  32</td></tr>\n",
              "\t<tr><td>Airfield Safety Officer                 </td><td> 121</td></tr>\n",
              "\t<tr><td>Airport Communications Disp             </td><td> 426</td></tr>\n",
              "\t<tr><td>Airport Communications Officer          </td><td>   8</td></tr>\n",
              "\t<tr><td>⋮</td><td>⋮</td></tr>\n",
              "\t<tr><td>Wastewater Control Inspector  </td><td>127</td></tr>\n",
              "\t<tr><td><span style=white-space:pre-wrap>Water &amp; Power Maint Sprv 1    </span></td><td> 44</td></tr>\n",
              "\t<tr><td>Water Conservation Admin      </td><td> 62</td></tr>\n",
              "\t<tr><td><span style=white-space:pre-wrap>Water Const&amp;Main Supt         </span></td><td> 21</td></tr>\n",
              "\t<tr><td>Water Meter Repairer          </td><td>101</td></tr>\n",
              "\t<tr><td>Water Meter Shop Supervisor 1 </td><td> 11</td></tr>\n",
              "\t<tr><td>Water Operations Analyst      </td><td>163</td></tr>\n",
              "\t<tr><td>Water Quality Tech III        </td><td>151</td></tr>\n",
              "\t<tr><td>Water Quality Technician      </td><td>199</td></tr>\n",
              "\t<tr><td>Water Qualitytech I/II        </td><td>315</td></tr>\n",
              "\t<tr><td>Water Service Inspector       </td><td>466</td></tr>\n",
              "\t<tr><td>Watershed Forester            </td><td> 28</td></tr>\n",
              "\t<tr><td>Watershed Keeper              </td><td>388</td></tr>\n",
              "\t<tr><td>Watershed Keeper Supervisor   </td><td> 50</td></tr>\n",
              "\t<tr><td>Watershed Worker (Seasonal)   </td><td>545</td></tr>\n",
              "\t<tr><td>Welder                        </td><td>174</td></tr>\n",
              "\t<tr><td>Welfare Fraud Investigator    </td><td> 92</td></tr>\n",
              "\t<tr><td>Wharfinger 1                  </td><td> 12</td></tr>\n",
              "\t<tr><td>Wharfinger 2                  </td><td> 32</td></tr>\n",
              "\t<tr><td>Wharfinger I/II               </td><td> 20</td></tr>\n",
              "\t<tr><td>Window Cleaner                </td><td>273</td></tr>\n",
              "\t<tr><td>Window Cleaner Supervisor     </td><td> 16</td></tr>\n",
              "\t<tr><td>Wire Rope Cable Maint Mechanic</td><td>145</td></tr>\n",
              "\t<tr><td>Wire Rope Cable Maint Sprv    </td><td> 19</td></tr>\n",
              "\t<tr><td>Wireropecable Maint Mech Train</td><td> 10</td></tr>\n",
              "\t<tr><td>WireRopeCable Maint Mech Train</td><td> 16</td></tr>\n",
              "\t<tr><td>Worker's Comp Supervisor 1    </td><td> 94</td></tr>\n",
              "\t<tr><td>Worker's Compensation Adjuster</td><td>421</td></tr>\n",
              "\t<tr><td>X-Ray Laboratory Aide         </td><td>322</td></tr>\n",
              "\t<tr><td>Youth Comm Advisor            </td><td> 21</td></tr>\n",
              "</tbody>\n",
              "</table>\n"
            ],
            "text/markdown": "\nA data.frame: 1350 × 2\n\n| Var1 &lt;fct&gt; | Freq &lt;int&gt; |\n|---|---|\n| <!----> |    5 |\n| Account Clerk                            | 1312 |\n| Accountant I                             |   29 |\n| Accountant II                            | 1160 |\n| Accountant II (OCII)                     |    8 |\n| Accountant III                           | 2096 |\n| Accountant III (OCII)                    |    5 |\n| Accountant Intern                        |  607 |\n| Accountant IV                            | 1114 |\n| Accounting Supervisor (OCII)             |    8 |\n| Acpo,Juvp, Juv Prob (SFERS)              |    6 |\n| ACPO,JuvP, Juv Prob (SFERS)              |    7 |\n| Acupuncturist                            |   17 |\n| Adm, SFGH Medical Center                 |    8 |\n| Admin Analyst 3                          |   56 |\n| Admin Hearing Examiner                   |   94 |\n| Administrative Analyst                   | 3119 |\n| Administrative Analyst I                 |   12 |\n| Administrative Analyst II                |   51 |\n| Administrative Engineer                  |  190 |\n| Administrative Hearing Sup               |    4 |\n| Administrative Services Mgr              |  119 |\n| Administrator, Department Of Public Heal |   11 |\n| Administrator, DPH                       |   12 |\n| Administrator, Retirement Services       |   10 |\n| Admission Attendant                      |  889 |\n| Agricultural Inspector                   |   32 |\n| Airfield Safety Officer                  |  121 |\n| Airport Communications Disp              |  426 |\n| Airport Communications Officer           |    8 |\n| ⋮ | ⋮ |\n| Wastewater Control Inspector   | 127 |\n| Water &amp; Power Maint Sprv 1     |  44 |\n| Water Conservation Admin       |  62 |\n| Water Const&amp;Main Supt          |  21 |\n| Water Meter Repairer           | 101 |\n| Water Meter Shop Supervisor 1  |  11 |\n| Water Operations Analyst       | 163 |\n| Water Quality Tech III         | 151 |\n| Water Quality Technician       | 199 |\n| Water Qualitytech I/II         | 315 |\n| Water Service Inspector        | 466 |\n| Watershed Forester             |  28 |\n| Watershed Keeper               | 388 |\n| Watershed Keeper Supervisor    |  50 |\n| Watershed Worker (Seasonal)    | 545 |\n| Welder                         | 174 |\n| Welfare Fraud Investigator     |  92 |\n| Wharfinger 1                   |  12 |\n| Wharfinger 2                   |  32 |\n| Wharfinger I/II                |  20 |\n| Window Cleaner                 | 273 |\n| Window Cleaner Supervisor      |  16 |\n| Wire Rope Cable Maint Mechanic | 145 |\n| Wire Rope Cable Maint Sprv     |  19 |\n| Wireropecable Maint Mech Train |  10 |\n| WireRopeCable Maint Mech Train |  16 |\n| Worker's Comp Supervisor 1     |  94 |\n| Worker's Compensation Adjuster | 421 |\n| X-Ray Laboratory Aide          | 322 |\n| Youth Comm Advisor             |  21 |\n\n",
            "text/latex": "A data.frame: 1350 × 2\n\\begin{tabular}{ll}\n Var1 & Freq\\\\\n <fct> & <int>\\\\\n\\hline\n\t                                          &    5\\\\\n\t Account Clerk                            & 1312\\\\\n\t Accountant I                             &   29\\\\\n\t Accountant II                            & 1160\\\\\n\t Accountant II (OCII)                     &    8\\\\\n\t Accountant III                           & 2096\\\\\n\t Accountant III (OCII)                    &    5\\\\\n\t Accountant Intern                        &  607\\\\\n\t Accountant IV                            & 1114\\\\\n\t Accounting Supervisor (OCII)             &    8\\\\\n\t Acpo,Juvp, Juv Prob (SFERS)              &    6\\\\\n\t ACPO,JuvP, Juv Prob (SFERS)              &    7\\\\\n\t Acupuncturist                            &   17\\\\\n\t Adm, SFGH Medical Center                 &    8\\\\\n\t Admin Analyst 3                          &   56\\\\\n\t Admin Hearing Examiner                   &   94\\\\\n\t Administrative Analyst                   & 3119\\\\\n\t Administrative Analyst I                 &   12\\\\\n\t Administrative Analyst II                &   51\\\\\n\t Administrative Engineer                  &  190\\\\\n\t Administrative Hearing Sup               &    4\\\\\n\t Administrative Services Mgr              &  119\\\\\n\t Administrator, Department Of Public Heal &   11\\\\\n\t Administrator, DPH                       &   12\\\\\n\t Administrator, Retirement Services       &   10\\\\\n\t Admission Attendant                      &  889\\\\\n\t Agricultural Inspector                   &   32\\\\\n\t Airfield Safety Officer                  &  121\\\\\n\t Airport Communications Disp              &  426\\\\\n\t Airport Communications Officer           &    8\\\\\n\t ⋮ & ⋮\\\\\n\t Wastewater Control Inspector   & 127\\\\\n\t Water \\& Power Maint Sprv 1     &  44\\\\\n\t Water Conservation Admin       &  62\\\\\n\t Water Const\\&Main Supt          &  21\\\\\n\t Water Meter Repairer           & 101\\\\\n\t Water Meter Shop Supervisor 1  &  11\\\\\n\t Water Operations Analyst       & 163\\\\\n\t Water Quality Tech III         & 151\\\\\n\t Water Quality Technician       & 199\\\\\n\t Water Qualitytech I/II         & 315\\\\\n\t Water Service Inspector        & 466\\\\\n\t Watershed Forester             &  28\\\\\n\t Watershed Keeper               & 388\\\\\n\t Watershed Keeper Supervisor    &  50\\\\\n\t Watershed Worker (Seasonal)    & 545\\\\\n\t Welder                         & 174\\\\\n\t Welfare Fraud Investigator     &  92\\\\\n\t Wharfinger 1                   &  12\\\\\n\t Wharfinger 2                   &  32\\\\\n\t Wharfinger I/II                &  20\\\\\n\t Window Cleaner                 & 273\\\\\n\t Window Cleaner Supervisor      &  16\\\\\n\t Wire Rope Cable Maint Mechanic & 145\\\\\n\t Wire Rope Cable Maint Sprv     &  19\\\\\n\t Wireropecable Maint Mech Train &  10\\\\\n\t WireRopeCable Maint Mech Train &  16\\\\\n\t Worker's Comp Supervisor 1     &  94\\\\\n\t Worker's Compensation Adjuster & 421\\\\\n\t X-Ray Laboratory Aide          & 322\\\\\n\t Youth Comm Advisor             &  21\\\\\n\\end{tabular}\n",
            "text/plain": [
              "     Var1                                     Freq\n",
              "1                                                5\n",
              "2    Account Clerk                            1312\n",
              "3    Accountant I                               29\n",
              "4    Accountant II                            1160\n",
              "5    Accountant II (OCII)                        8\n",
              "6    Accountant III                           2096\n",
              "7    Accountant III (OCII)                       5\n",
              "8    Accountant Intern                         607\n",
              "9    Accountant IV                            1114\n",
              "10   Accounting Supervisor (OCII)                8\n",
              "11   Acpo,Juvp, Juv Prob (SFERS)                 6\n",
              "12   ACPO,JuvP, Juv Prob (SFERS)                 7\n",
              "13   Acupuncturist                              17\n",
              "14   Adm, SFGH Medical Center                    8\n",
              "15   Admin Analyst 3                            56\n",
              "16   Admin Hearing Examiner                     94\n",
              "17   Administrative Analyst                   3119\n",
              "18   Administrative Analyst I                   12\n",
              "19   Administrative Analyst II                  51\n",
              "20   Administrative Engineer                   190\n",
              "21   Administrative Hearing Sup                  4\n",
              "22   Administrative Services Mgr               119\n",
              "23   Administrator, Department Of Public Heal   11\n",
              "24   Administrator, DPH                         12\n",
              "25   Administrator, Retirement Services         10\n",
              "26   Admission Attendant                       889\n",
              "27   Agricultural Inspector                     32\n",
              "28   Airfield Safety Officer                   121\n",
              "29   Airport Communications Disp               426\n",
              "30   Airport Communications Officer              8\n",
              "⋮    ⋮                                        ⋮   \n",
              "1321 Wastewater Control Inspector             127 \n",
              "1322 Water & Power Maint Sprv 1                44 \n",
              "1323 Water Conservation Admin                  62 \n",
              "1324 Water Const&Main Supt                     21 \n",
              "1325 Water Meter Repairer                     101 \n",
              "1326 Water Meter Shop Supervisor 1             11 \n",
              "1327 Water Operations Analyst                 163 \n",
              "1328 Water Quality Tech III                   151 \n",
              "1329 Water Quality Technician                 199 \n",
              "1330 Water Qualitytech I/II                   315 \n",
              "1331 Water Service Inspector                  466 \n",
              "1332 Watershed Forester                        28 \n",
              "1333 Watershed Keeper                         388 \n",
              "1334 Watershed Keeper Supervisor               50 \n",
              "1335 Watershed Worker (Seasonal)              545 \n",
              "1336 Welder                                   174 \n",
              "1337 Welfare Fraud Investigator                92 \n",
              "1338 Wharfinger 1                              12 \n",
              "1339 Wharfinger 2                              32 \n",
              "1340 Wharfinger I/II                           20 \n",
              "1341 Window Cleaner                           273 \n",
              "1342 Window Cleaner Supervisor                 16 \n",
              "1343 Wire Rope Cable Maint Mechanic           145 \n",
              "1344 Wire Rope Cable Maint Sprv                19 \n",
              "1345 Wireropecable Maint Mech Train            10 \n",
              "1346 WireRopeCable Maint Mech Train            16 \n",
              "1347 Worker's Comp Supervisor 1                94 \n",
              "1348 Worker's Compensation Adjuster           421 \n",
              "1349 X-Ray Laboratory Aide                    322 \n",
              "1350 Youth Comm Advisor                        21 "
            ]
          },
          "metadata": {}
        }
      ]
    },
    {
      "cell_type": "markdown",
      "source": [
        "The Data from above table shows the number of employee working under various job profiles."
      ],
      "metadata": {
        "id": "JPeoWQr_eO_G"
      }
    },
    {
      "cell_type": "code",
      "source": [
        "#6\n",
        "#Selecting the Column; Department \n",
        "Department=select(dataCensus, Department)\n",
        "#filtering Departmentnames \n",
        "department_name=filter(Department, Department==\"AAM Asian Art Museum\" )\n",
        "count(department_name)"
      ],
      "metadata": {
        "colab": {
          "base_uri": "https://localhost:8080/",
          "height": 164
        },
        "id": "lS3WeSxvSrcw",
        "outputId": "cd2bc280-a324-40f3-d16e-f60d49284007"
      },
      "execution_count": 87,
      "outputs": [
        {
          "output_type": "display_data",
          "data": {
            "text/html": [
              "<table class=\"dataframe\">\n",
              "<caption>A data.frame: 1 × 1</caption>\n",
              "<thead>\n",
              "\t<tr><th scope=col>n</th></tr>\n",
              "\t<tr><th scope=col>&lt;int&gt;</th></tr>\n",
              "</thead>\n",
              "<tbody>\n",
              "\t<tr><td>746</td></tr>\n",
              "</tbody>\n",
              "</table>\n"
            ],
            "text/markdown": "\nA data.frame: 1 × 1\n\n| n &lt;int&gt; |\n|---|\n| 746 |\n\n",
            "text/latex": "A data.frame: 1 × 1\n\\begin{tabular}{l}\n n\\\\\n <int>\\\\\n\\hline\n\t 746\\\\\n\\end{tabular}\n",
            "text/plain": [
              "  n  \n",
              "1 746"
            ]
          },
          "metadata": {}
        }
      ]
    },
    {
      "cell_type": "markdown",
      "source": [
        "There are 746 employees that worked under AAM Asian Art Museum."
      ],
      "metadata": {
        "id": "jLTzWXxGQn1v"
      }
    },
    {
      "cell_type": "markdown",
      "source": [
        "LOOP"
      ],
      "metadata": {
        "id": "JTvrYIdncgut"
      }
    },
    {
      "cell_type": "code",
      "source": [
        "# for-loop over columns\n",
        "library(tidyverse)\n",
        "mydata <- dataCensus$Department\n",
        "for(i in 1: ncol(department_name))\n",
        "{       \n",
        "  department_name[ , i] <- department_name[ , i] + 10\n",
        "}"
      ],
      "metadata": {
        "id": "4DWFNGH5etQv"
      },
      "execution_count": null,
      "outputs": []
    },
    {
      "cell_type": "code",
      "source": [
        "Employees_earned_less <- dataCensus$Salaries < 10000\n",
        "do \n",
        "(print(\"Employee is underpaid\"))\n"
      ],
      "metadata": {
        "id": "iZQ-ZcDocdNm",
        "colab": {
          "base_uri": "https://localhost:8080/",
          "height": 139
        },
        "outputId": "2ffa50c7-7be4-42d4-96fc-6b3a659352d7"
      },
      "execution_count": 117,
      "outputs": [
        {
          "output_type": "display_data",
          "data": {
            "text/html": [
              "<pre class=language-r><code>function (.data, ...) \n",
              "{\n",
              "<span style=white-space:pre-wrap>    lifecycle::signal_stage(\"superseded\", \"do()\")</span>\n",
              "<span style=white-space:pre-wrap>    UseMethod(\"do\")</span>\n",
              "}</code></pre>"
            ],
            "text/markdown": "```r\nfunction (.data, ...) \n{\n    lifecycle::signal_stage(\"superseded\", \"do()\")\n    UseMethod(\"do\")\n}\n```",
            "text/latex": "\\begin{minted}{r}\nfunction (.data, ...) \n\\{\n    lifecycle::signal\\_stage(\"superseded\", \"do()\")\n    UseMethod(\"do\")\n\\}\n\\end{minted}",
            "text/plain": [
              "function (.data, ...) \n",
              "{\n",
              "    lifecycle::signal_stage(\"superseded\", \"do()\")\n",
              "    UseMethod(\"do\")\n",
              "}\n",
              "<bytecode: 0x564609185540>\n",
              "<environment: namespace:dplyr>"
            ]
          },
          "metadata": {}
        },
        {
          "output_type": "stream",
          "name": "stdout",
          "text": [
            "[1] \"Employee is underpaid\"\n"
          ]
        },
        {
          "output_type": "display_data",
          "data": {
            "text/html": [
              "'Employee is underpaid'"
            ],
            "text/markdown": "'Employee is underpaid'",
            "text/latex": "'Employee is underpaid'",
            "text/plain": [
              "[1] \"Employee is underpaid\""
            ]
          },
          "metadata": {}
        }
      ]
    },
    {
      "cell_type": "markdown",
      "source": [
        "##SUBSETS OF DATA \n"
      ],
      "metadata": {
        "id": "M_orztykMYJz"
      }
    },
    {
      "cell_type": "code",
      "source": [
        "dim(dataCensus)"
      ],
      "metadata": {
        "colab": {
          "base_uri": "https://localhost:8080/",
          "height": 34
        },
        "id": "L8LkjGmyMey9",
        "outputId": "1a79a8a1-cef8-4497-fa63-d5f4a6f0d0ca"
      },
      "execution_count": null,
      "outputs": [
        {
          "output_type": "display_data",
          "data": {
            "text/html": [
              "<style>\n",
              ".list-inline {list-style: none; margin:0; padding: 0}\n",
              ".list-inline>li {display: inline-block}\n",
              ".list-inline>li:not(:last-child)::after {content: \"\\00b7\"; padding: 0 .5ex}\n",
              "</style>\n",
              "<ol class=list-inline><li>683277</li><li>22</li></ol>\n"
            ],
            "text/markdown": "1. 683277\n2. 22\n\n\n",
            "text/latex": "\\begin{enumerate*}\n\\item 683277\n\\item 22\n\\end{enumerate*}\n",
            "text/plain": [
              "[1] 683277     22"
            ]
          },
          "metadata": {}
        }
      ]
    },
    {
      "cell_type": "markdown",
      "source": [
        "There are 683277 rows and columns. "
      ],
      "metadata": {
        "id": "zSv0WLN1Mw-e"
      }
    },
    {
      "cell_type": "code",
      "source": [
        "##Subsets of the data are all based on the housing or income price\n",
        "subset1 <- subset(dataCensus, Total.Compensation<10000)\n",
        "dim(subset1)"
      ],
      "metadata": {
        "colab": {
          "base_uri": "https://localhost:8080/",
          "height": 34
        },
        "id": "DiJ5SD5JSJfs",
        "outputId": "bebf2096-b3fb-4785-8d2e-9382e002da36"
      },
      "execution_count": null,
      "outputs": [
        {
          "output_type": "display_data",
          "data": {
            "text/html": [
              "<style>\n",
              ".list-inline {list-style: none; margin:0; padding: 0}\n",
              ".list-inline>li {display: inline-block}\n",
              ".list-inline>li:not(:last-child)::after {content: \"\\00b7\"; padding: 0 .5ex}\n",
              "</style>\n",
              "<ol class=list-inline><li>76750</li><li>22</li></ol>\n"
            ],
            "text/markdown": "1. 76750\n2. 22\n\n\n",
            "text/latex": "\\begin{enumerate*}\n\\item 76750\n\\item 22\n\\end{enumerate*}\n",
            "text/plain": [
              "[1] 76750    22"
            ]
          },
          "metadata": {}
        }
      ]
    },
    {
      "cell_type": "code",
      "source": [
        "(76750/683277)*100"
      ],
      "metadata": {
        "colab": {
          "base_uri": "https://localhost:8080/",
          "height": 34
        },
        "id": "5x-tzmbr6LNf",
        "outputId": "e43e872b-725e-4646-9aa7-d84313a79e89"
      },
      "execution_count": null,
      "outputs": [
        {
          "output_type": "display_data",
          "data": {
            "text/html": [
              "11.2326333244058"
            ],
            "text/markdown": "11.2326333244058",
            "text/latex": "11.2326333244058",
            "text/plain": [
              "[1] 11.23263"
            ]
          },
          "metadata": {}
        }
      ]
    },
    {
      "cell_type": "markdown",
      "source": [
        "11% people earn less than $10,000 annually."
      ],
      "metadata": {
        "id": "Ki_OSLIS6U5G"
      }
    },
    {
      "cell_type": "code",
      "source": [
        "subset2 <- subset(dataCensus, Total.Compensation>100000)\n",
        "dim(subset2)"
      ],
      "metadata": {
        "colab": {
          "base_uri": "https://localhost:8080/",
          "height": 34
        },
        "id": "pGvLdOQ86u4w",
        "outputId": "51001b77-b146-48a0-aeb7-da9da9936f74"
      },
      "execution_count": null,
      "outputs": [
        {
          "output_type": "display_data",
          "data": {
            "text/html": [
              "<style>\n",
              ".list-inline {list-style: none; margin:0; padding: 0}\n",
              ".list-inline>li {display: inline-block}\n",
              ".list-inline>li:not(:last-child)::after {content: \"\\00b7\"; padding: 0 .5ex}\n",
              "</style>\n",
              "<ol class=list-inline><li>374002</li><li>22</li></ol>\n"
            ],
            "text/markdown": "1. 374002\n2. 22\n\n\n",
            "text/latex": "\\begin{enumerate*}\n\\item 374002\n\\item 22\n\\end{enumerate*}\n",
            "text/plain": [
              "[1] 374002     22"
            ]
          },
          "metadata": {}
        }
      ]
    },
    {
      "cell_type": "code",
      "source": [
        "(374002/683277)*100 "
      ],
      "metadata": {
        "colab": {
          "base_uri": "https://localhost:8080/",
          "height": 34
        },
        "id": "MdEZAkJ260aX",
        "outputId": "62169fb8-827f-4f51-f6a6-d3298dfc75ec"
      },
      "execution_count": null,
      "outputs": [
        {
          "output_type": "display_data",
          "data": {
            "text/html": [
              "54.7365124246828"
            ],
            "text/markdown": "54.7365124246828",
            "text/latex": "54.7365124246828",
            "text/plain": [
              "[1] 54.73651"
            ]
          },
          "metadata": {}
        }
      ]
    },
    {
      "cell_type": "markdown",
      "source": [
        "58% people earn more than $100,000 annually."
      ],
      "metadata": {
        "id": "tv0jYjG66_Hc"
      }
    },
    {
      "cell_type": "code",
      "source": [
        "no_of_employees = group_by(Department) %>% summarise(Employees = n()) %>% arrange(desc(Employees))\n",
        "no_of_employees"
      ],
      "metadata": {
        "colab": {
          "base_uri": "https://localhost:8080/",
          "height": 129
        },
        "id": "AGwmeY2m7K4r",
        "outputId": "75fc45ea-38ac-4fa6-b5df-f60c6cf82380"
      },
      "execution_count": 72,
      "outputs": [
        {
          "output_type": "display_data",
          "data": {
            "text/html": [
              "<table class=\"dataframe\">\n",
              "<caption>A tibble: 1 × 1</caption>\n",
              "<thead>\n",
              "\t<tr><th scope=col>Employees</th></tr>\n",
              "\t<tr><th scope=col>&lt;int&gt;</th></tr>\n",
              "</thead>\n",
              "<tbody>\n",
              "\t<tr><td>1</td></tr>\n",
              "</tbody>\n",
              "</table>\n"
            ],
            "text/markdown": "\nA tibble: 1 × 1\n\n| Employees &lt;int&gt; |\n|---|\n| 1 |\n\n",
            "text/latex": "A tibble: 1 × 1\n\\begin{tabular}{l}\n Employees\\\\\n <int>\\\\\n\\hline\n\t 1\\\\\n\\end{tabular}\n",
            "text/plain": [
              "  Employees\n",
              "1 1        "
            ]
          },
          "metadata": {}
        }
      ]
    },
    {
      "cell_type": "markdown",
      "source": [
        "The above data shows employees as per the departments. "
      ],
      "metadata": {
        "id": "gKjmYJX0O008"
      }
    },
    {
      "cell_type": "markdown",
      "source": [
        "##SINGLE VECTOR \n",
        "\n",
        "\n"
      ],
      "metadata": {
        "id": "fX_f5ffw9w4_"
      }
    },
    {
      "cell_type": "code",
      "source": [
        "##Create a vector of top five job titles\n",
        "newdata <- table1[order(table1$Freq),]\n",
        "p = tail(newdata, n = 5)\n",
        "p"
      ],
      "metadata": {
        "colab": {
          "base_uri": "https://localhost:8080/",
          "height": 255
        },
        "id": "U1xAb_a9-cT8",
        "outputId": "7b139195-1e93-407b-9cfb-b24359b60ad5"
      },
      "execution_count": null,
      "outputs": [
        {
          "output_type": "display_data",
          "data": {
            "text/html": [
              "<table class=\"dataframe\">\n",
              "<caption>A data.frame: 5 × 2</caption>\n",
              "<thead>\n",
              "\t<tr><th></th><th scope=col>Var1</th><th scope=col>Freq</th></tr>\n",
              "\t<tr><th></th><th scope=col>&lt;fct&gt;</th><th scope=col>&lt;int&gt;</th></tr>\n",
              "</thead>\n",
              "<tbody>\n",
              "\t<tr><th scope=row>970</th><td>Public Service Trainee</td><td>13690</td></tr>\n",
              "\t<tr><th scope=row>530</th><td>Firefighter           </td><td>14038</td></tr>\n",
              "\t<tr><th scope=row>989</th><td>Registered Nurse      </td><td>21954</td></tr>\n",
              "\t<tr><th scope=row>1135</th><td>Special Nurse         </td><td>25285</td></tr>\n",
              "\t<tr><th scope=row>1273</th><td>Transit Operator      </td><td>43373</td></tr>\n",
              "</tbody>\n",
              "</table>\n"
            ],
            "text/markdown": "\nA data.frame: 5 × 2\n\n| <!--/--> | Var1 &lt;fct&gt; | Freq &lt;int&gt; |\n|---|---|---|\n| 970 | Public Service Trainee | 13690 |\n| 530 | Firefighter            | 14038 |\n| 989 | Registered Nurse       | 21954 |\n| 1135 | Special Nurse          | 25285 |\n| 1273 | Transit Operator       | 43373 |\n\n",
            "text/latex": "A data.frame: 5 × 2\n\\begin{tabular}{r|ll}\n  & Var1 & Freq\\\\\n  & <fct> & <int>\\\\\n\\hline\n\t970 & Public Service Trainee & 13690\\\\\n\t530 & Firefighter            & 14038\\\\\n\t989 & Registered Nurse       & 21954\\\\\n\t1135 & Special Nurse          & 25285\\\\\n\t1273 & Transit Operator       & 43373\\\\\n\\end{tabular}\n",
            "text/plain": [
              "     Var1                   Freq \n",
              "970  Public Service Trainee 13690\n",
              "530  Firefighter            14038\n",
              "989  Registered Nurse       21954\n",
              "1135 Special Nurse          25285\n",
              "1273 Transit Operator       43373"
            ]
          },
          "metadata": {}
        }
      ]
    },
    {
      "cell_type": "code",
      "source": [
        "##create  vector of  frequent job tiles \n",
        "\n",
        "list <- c()\n",
        "for ( i in p$Var1){ \n",
        "  list[[i]] <- i\n",
        "}\n",
        " vectorJob= unlist(list)"
      ],
      "metadata": {
        "id": "awoH23PA-fCG"
      },
      "execution_count": null,
      "outputs": []
    },
    {
      "cell_type": "markdown",
      "source": [
        "##LIST"
      ],
      "metadata": {
        "id": "88KXI0YvcHsi"
      }
    },
    {
      "cell_type": "code",
      "source": [
        "###lists of job family\n",
        "table1 = table(dataCensus$Job.Family)\n",
        "table1 = as.data.frame(as.table(table1))\n",
        "newdataJobtitles <- table1[order(table1$Freq),]\n",
        "##list of top 5 job titles\n",
        "p = tail(newdataJobtitles, n = 5)\n",
        "list1 <- c()\n",
        "for ( i in p$Var1){ \n",
        "  list1[[i]] <- i\n",
        "}\n",
        "list1"
      ],
      "metadata": {
        "colab": {
          "base_uri": "https://localhost:8080/",
          "height": 219
        },
        "id": "yUXvnaG6-g9y",
        "outputId": "eb4833b8-3eca-4cc0-ba53-ab8289d23da4"
      },
      "execution_count": null,
      "outputs": [
        {
          "output_type": "display_data",
          "data": {
            "text/html": [
              "<dl>\n",
              "\t<dt>$`Human Services`</dt>\n",
              "\t\t<dd>'Human Services'</dd>\n",
              "\t<dt>$`Journeyman Trade`</dt>\n",
              "\t\t<dd>'Journeyman Trade'</dd>\n",
              "\t<dt>$`Police Services`</dt>\n",
              "\t\t<dd>'Police Services'</dd>\n",
              "\t<dt>$`Street Transit`</dt>\n",
              "\t\t<dd>'Street Transit'</dd>\n",
              "\t<dt>$Nursing</dt>\n",
              "\t\t<dd>'Nursing'</dd>\n",
              "</dl>\n"
            ],
            "text/markdown": "$`Human Services`\n:   'Human Services'\n$`Journeyman Trade`\n:   'Journeyman Trade'\n$`Police Services`\n:   'Police Services'\n$`Street Transit`\n:   'Street Transit'\n$Nursing\n:   'Nursing'\n\n\n",
            "text/latex": "\\begin{description}\n\\item[\\$`Human Services`] 'Human Services'\n\\item[\\$`Journeyman Trade`] 'Journeyman Trade'\n\\item[\\$`Police Services`] 'Police Services'\n\\item[\\$`Street Transit`] 'Street Transit'\n\\item[\\$Nursing] 'Nursing'\n\\end{description}\n",
            "text/plain": [
              "$`Human Services`\n",
              "[1] \"Human Services\"\n",
              "\n",
              "$`Journeyman Trade`\n",
              "[1] \"Journeyman Trade\"\n",
              "\n",
              "$`Police Services`\n",
              "[1] \"Police Services\"\n",
              "\n",
              "$`Street Transit`\n",
              "[1] \"Street Transit\"\n",
              "\n",
              "$Nursing\n",
              "[1] \"Nursing\"\n"
            ]
          },
          "metadata": {}
        }
      ]
    },
    {
      "cell_type": "code",
      "source": [
        "##list of top 10 job titles\n",
        "p = tail(newdataJobtitles, n = 10)\n",
        "list2 <- c()\n",
        "for ( i in p$Var1){ \n",
        "  list2[[i]] <- i\n",
        "}\n",
        "list2"
      ],
      "metadata": {
        "colab": {
          "base_uri": "https://localhost:8080/",
          "height": 392
        },
        "id": "SJ6fSLDh-pam",
        "outputId": "dfc50eed-b911-46f6-f4b6-864521de9440"
      },
      "execution_count": null,
      "outputs": [
        {
          "output_type": "display_data",
          "data": {
            "text/html": [
              "<dl>\n",
              "\t<dt>$Management</dt>\n",
              "\t\t<dd>'Management'</dd>\n",
              "\t<dt>$`Housekeeping &amp; Laundry`</dt>\n",
              "\t\t<dd>'Housekeeping &amp; Laundry'</dd>\n",
              "\t<dt>$`Fire Services`</dt>\n",
              "\t\t<dd>'Fire Services'</dd>\n",
              "\t<dt>$`Clerical, Secretarial &amp; Steno`</dt>\n",
              "\t\t<dd>'Clerical, Secretarial &amp; Steno'</dd>\n",
              "\t<dt>$`Public Service Aide`</dt>\n",
              "\t\t<dd>'Public Service Aide'</dd>\n",
              "\t<dt>$`Human Services`</dt>\n",
              "\t\t<dd>'Human Services'</dd>\n",
              "\t<dt>$`Journeyman Trade`</dt>\n",
              "\t\t<dd>'Journeyman Trade'</dd>\n",
              "\t<dt>$`Police Services`</dt>\n",
              "\t\t<dd>'Police Services'</dd>\n",
              "\t<dt>$`Street Transit`</dt>\n",
              "\t\t<dd>'Street Transit'</dd>\n",
              "\t<dt>$Nursing</dt>\n",
              "\t\t<dd>'Nursing'</dd>\n",
              "</dl>\n"
            ],
            "text/markdown": "$Management\n:   'Management'\n$`Housekeeping &amp; Laundry`\n:   'Housekeeping &amp; Laundry'\n$`Fire Services`\n:   'Fire Services'\n$`Clerical, Secretarial &amp; Steno`\n:   'Clerical, Secretarial &amp; Steno'\n$`Public Service Aide`\n:   'Public Service Aide'\n$`Human Services`\n:   'Human Services'\n$`Journeyman Trade`\n:   'Journeyman Trade'\n$`Police Services`\n:   'Police Services'\n$`Street Transit`\n:   'Street Transit'\n$Nursing\n:   'Nursing'\n\n\n",
            "text/latex": "\\begin{description}\n\\item[\\$Management] 'Management'\n\\item[\\$`Housekeeping \\& Laundry`] 'Housekeeping \\& Laundry'\n\\item[\\$`Fire Services`] 'Fire Services'\n\\item[\\$`Clerical, Secretarial \\& Steno`] 'Clerical, Secretarial \\& Steno'\n\\item[\\$`Public Service Aide`] 'Public Service Aide'\n\\item[\\$`Human Services`] 'Human Services'\n\\item[\\$`Journeyman Trade`] 'Journeyman Trade'\n\\item[\\$`Police Services`] 'Police Services'\n\\item[\\$`Street Transit`] 'Street Transit'\n\\item[\\$Nursing] 'Nursing'\n\\end{description}\n",
            "text/plain": [
              "$Management\n",
              "[1] \"Management\"\n",
              "\n",
              "$`Housekeeping & Laundry`\n",
              "[1] \"Housekeeping & Laundry\"\n",
              "\n",
              "$`Fire Services`\n",
              "[1] \"Fire Services\"\n",
              "\n",
              "$`Clerical, Secretarial & Steno`\n",
              "[1] \"Clerical, Secretarial & Steno\"\n",
              "\n",
              "$`Public Service Aide`\n",
              "[1] \"Public Service Aide\"\n",
              "\n",
              "$`Human Services`\n",
              "[1] \"Human Services\"\n",
              "\n",
              "$`Journeyman Trade`\n",
              "[1] \"Journeyman Trade\"\n",
              "\n",
              "$`Police Services`\n",
              "[1] \"Police Services\"\n",
              "\n",
              "$`Street Transit`\n",
              "[1] \"Street Transit\"\n",
              "\n",
              "$Nursing\n",
              "[1] \"Nursing\"\n"
            ]
          },
          "metadata": {}
        }
      ]
    },
    {
      "cell_type": "code",
      "source": [
        "##list of top 7 job titles\n",
        "p = tail(newdataJobtitles, n = 7)\n",
        "list3 <- c()\n",
        "for ( i in p$Var1){ \n",
        "  list3[[i]] <- i\n",
        "}\n",
        "list3"
      ],
      "metadata": {
        "colab": {
          "base_uri": "https://localhost:8080/",
          "height": 288
        },
        "id": "EvWL1t7f-vIe",
        "outputId": "adc2a30f-5829-4cbe-ff25-15092692a0bf"
      },
      "execution_count": null,
      "outputs": [
        {
          "output_type": "display_data",
          "data": {
            "text/html": [
              "<dl>\n",
              "\t<dt>$`Clerical, Secretarial &amp; Steno`</dt>\n",
              "\t\t<dd>'Clerical, Secretarial &amp; Steno'</dd>\n",
              "\t<dt>$`Public Service Aide`</dt>\n",
              "\t\t<dd>'Public Service Aide'</dd>\n",
              "\t<dt>$`Human Services`</dt>\n",
              "\t\t<dd>'Human Services'</dd>\n",
              "\t<dt>$`Journeyman Trade`</dt>\n",
              "\t\t<dd>'Journeyman Trade'</dd>\n",
              "\t<dt>$`Police Services`</dt>\n",
              "\t\t<dd>'Police Services'</dd>\n",
              "\t<dt>$`Street Transit`</dt>\n",
              "\t\t<dd>'Street Transit'</dd>\n",
              "\t<dt>$Nursing</dt>\n",
              "\t\t<dd>'Nursing'</dd>\n",
              "</dl>\n"
            ],
            "text/markdown": "$`Clerical, Secretarial &amp; Steno`\n:   'Clerical, Secretarial &amp; Steno'\n$`Public Service Aide`\n:   'Public Service Aide'\n$`Human Services`\n:   'Human Services'\n$`Journeyman Trade`\n:   'Journeyman Trade'\n$`Police Services`\n:   'Police Services'\n$`Street Transit`\n:   'Street Transit'\n$Nursing\n:   'Nursing'\n\n\n",
            "text/latex": "\\begin{description}\n\\item[\\$`Clerical, Secretarial \\& Steno`] 'Clerical, Secretarial \\& Steno'\n\\item[\\$`Public Service Aide`] 'Public Service Aide'\n\\item[\\$`Human Services`] 'Human Services'\n\\item[\\$`Journeyman Trade`] 'Journeyman Trade'\n\\item[\\$`Police Services`] 'Police Services'\n\\item[\\$`Street Transit`] 'Street Transit'\n\\item[\\$Nursing] 'Nursing'\n\\end{description}\n",
            "text/plain": [
              "$`Clerical, Secretarial & Steno`\n",
              "[1] \"Clerical, Secretarial & Steno\"\n",
              "\n",
              "$`Public Service Aide`\n",
              "[1] \"Public Service Aide\"\n",
              "\n",
              "$`Human Services`\n",
              "[1] \"Human Services\"\n",
              "\n",
              "$`Journeyman Trade`\n",
              "[1] \"Journeyman Trade\"\n",
              "\n",
              "$`Police Services`\n",
              "[1] \"Police Services\"\n",
              "\n",
              "$`Street Transit`\n",
              "[1] \"Street Transit\"\n",
              "\n",
              "$Nursing\n",
              "[1] \"Nursing\"\n"
            ]
          },
          "metadata": {}
        }
      ]
    },
    {
      "cell_type": "markdown",
      "source": [
        "##PLOTTING "
      ],
      "metadata": {
        "id": "pAXqJeMU-xmT"
      }
    },
    {
      "cell_type": "code",
      "source": [
        "plot(dataCensus$Year~dataCensus$Total.Compensation, xlab = \"Total.compensation\",ylab = \"Year\")"
      ],
      "metadata": {
        "colab": {
          "base_uri": "https://localhost:8080/",
          "height": 437
        },
        "id": "A1MFMors5vao",
        "outputId": "af998a32-c22f-4140-9070-55db530ef952"
      },
      "execution_count": 100,
      "outputs": [
        {
          "output_type": "display_data",
          "data": {
            "text/plain": [
              "plot without title"
            ],
            "image/png": "[encoded data removed]"
          },
          "metadata": {
            "image/png": {
              "width": 420,
              "height": 420
            }
          }
        }
      ]
    },
    {
      "cell_type": "markdown",
      "source": [
        "Variation in total compensation to employees over the years can be seen. "
      ],
      "metadata": {
        "id": "hTBo-RKiThd9"
      }
    },
    {
      "cell_type": "code",
      "source": [
        "plot(dataCensus$Year~dataCensus$Total.Salary, xlab = \"Total.Salary\",ylab =\"Year\")"
      ],
      "metadata": {
        "colab": {
          "base_uri": "https://localhost:8080/",
          "height": 437
        },
        "id": "TqhYgm5bTCkO",
        "outputId": "c56c39b0-f590-4973-9a76-4879d42c767f"
      },
      "execution_count": 102,
      "outputs": [
        {
          "output_type": "display_data",
          "data": {
            "text/plain": [
              "plot without title"
            ],
            "image/png": "[encoded data removed]"
          },
          "metadata": {
            "image/png": {
              "width": 420,
              "height": 420
            }
          }
        }
      ]
    },
    {
      "cell_type": "markdown",
      "source": [
        "Variation in total salary to employees from 2013 to 2020 can be seen."
      ],
      "metadata": {
        "id": "US0uKLk-UbXB"
      }
    },
    {
      "cell_type": "code",
      "source": [
        "Overtime=select(dataCensus,Salaries)\n",
        "#create histogram of values for price\n",
        "library(ggplot2)\n",
        "ggplot(data= Salaries, aes(x=Overtime)) + geom_histogram(fill=\"steelblue\", color=\"black\") + ggtitle(\"Histogram of Age\")"
      ],
      "metadata": {
        "colab": {
          "base_uri": "https://localhost:8080/",
          "height": 473
        },
        "id": "WRSpvk3dF6Fp",
        "outputId": "1dce12a6-de36-4241-8284-8e074b93081e"
      },
      "execution_count": 35,
      "outputs": [
        {
          "output_type": "stream",
          "name": "stderr",
          "text": [
            "`stat_bin()` using `bins = 30`. Pick better value with `binwidth`.\n",
            "\n"
          ]
        },
        {
          "output_type": "display_data",
          "data": {
            "text/plain": [
              "plot without title"
            ],
            "image/png": "[encoded data removed]"
          },
          "metadata": {
            "image/png": {
              "width": 420,
              "height": 420
            }
          }
        }
      ]
    },
    {
      "cell_type": "code",
      "source": [
        "library(dplyr)\n",
        "#selecting the columns; \n",
        "Col= select(dataCensus,Year,Union,Salaries)\n",
        "#details           \n",
        "data_past=filter(Col, Year==\"2013\" )\n",
        "count(data_past)"
      ],
      "metadata": {
        "colab": {
          "base_uri": "https://localhost:8080/",
          "height": 164
        },
        "id": "_2z-d1B48FIp",
        "outputId": "c1cc595e-2f9b-4384-899f-dd6634e2b2ae"
      },
      "execution_count": 25,
      "outputs": [
        {
          "output_type": "display_data",
          "data": {
            "text/html": [
              "<table class=\"dataframe\">\n",
              "<caption>A data.frame: 1 × 1</caption>\n",
              "<thead>\n",
              "\t<tr><th scope=col>n</th></tr>\n",
              "\t<tr><th scope=col>&lt;int&gt;</th></tr>\n",
              "</thead>\n",
              "<tbody>\n",
              "\t<tr><td>79380</td></tr>\n",
              "</tbody>\n",
              "</table>\n"
            ],
            "text/markdown": "\nA data.frame: 1 × 1\n\n| n &lt;int&gt; |\n|---|\n| 79380 |\n\n",
            "text/latex": "A data.frame: 1 × 1\n\\begin{tabular}{l}\n n\\\\\n <int>\\\\\n\\hline\n\t 79380\\\\\n\\end{tabular}\n",
            "text/plain": [
              "  n    \n",
              "1 79380"
            ]
          },
          "metadata": {}
        }
      ]
    },
    {
      "cell_type": "code",
      "source": [
        "library(dplyr)\n",
        "#selecting the columns; \n",
        "Col= select(dataCensus,Year,Union,Salaries)\n",
        "#details           \n",
        "data_now=filter(Col, Year==\"2020\" )\n",
        "count(data_now)"
      ],
      "metadata": {
        "colab": {
          "base_uri": "https://localhost:8080/",
          "height": 164
        },
        "id": "sq-wdGRC8J1b",
        "outputId": "63e60c6a-c065-4f15-f713-4edaae4a5065"
      },
      "execution_count": 24,
      "outputs": [
        {
          "output_type": "display_data",
          "data": {
            "text/html": [
              "<table class=\"dataframe\">\n",
              "<caption>A data.frame: 1 × 1</caption>\n",
              "<thead>\n",
              "\t<tr><th scope=col>n</th></tr>\n",
              "\t<tr><th scope=col>&lt;int&gt;</th></tr>\n",
              "</thead>\n",
              "<tbody>\n",
              "\t<tr><td>42376</td></tr>\n",
              "</tbody>\n",
              "</table>\n"
            ],
            "text/markdown": "\nA data.frame: 1 × 1\n\n| n &lt;int&gt; |\n|---|\n| 42376 |\n\n",
            "text/latex": "A data.frame: 1 × 1\n\\begin{tabular}{l}\n n\\\\\n <int>\\\\\n\\hline\n\t 42376\\\\\n\\end{tabular}\n",
            "text/plain": [
              "  n    \n",
              "1 42376"
            ]
          },
          "metadata": {}
        }
      ]
    },
    {
      "cell_type": "code",
      "source": [
        "42376/79380 *100 "
      ],
      "metadata": {
        "colab": {
          "base_uri": "https://localhost:8080/",
          "height": 34
        },
        "id": "SwfbeyspAcuK",
        "outputId": "82e3f683-dc4d-411d-d79f-dff8335090fb"
      },
      "execution_count": 26,
      "outputs": [
        {
          "output_type": "display_data",
          "data": {
            "text/html": [
              "53.3837238599143"
            ],
            "text/markdown": "53.3837238599143",
            "text/latex": "53.3837238599143",
            "text/plain": [
              "[1] 53.38372"
            ]
          },
          "metadata": {}
        }
      ]
    },
    {
      "cell_type": "code",
      "source": [
        "53% fall in Salaries from the year 2013 to 2020.\n"
      ],
      "metadata": {
        "id": "KEMEHWTLB6KL"
      },
      "execution_count": null,
      "outputs": []
    },
    {
      "cell_type": "code",
      "source": [
        "#Using for loop \n",
        "my_list2 <- list() \n",
        "for(i in 1:ncol(dataCensus)) \n",
        "{ \n",
        "  my_list2[[i]] <- dataCensus[ , i]\n",
        "}\n",
        "names(my_list2) <- colnames(dataCensus)    \n",
        "my_list2 "
      ],
      "metadata": {
        "colab": {
          "base_uri": "https://localhost:8080/",
          "height": 184
        },
        "id": "C8-GRp5dJs9y",
        "outputId": "127daedc-466f-4836-aaca-5df408e3c0a6"
      },
      "execution_count": 57,
      "outputs": [
        {
          "output_type": "display_data",
          "data": {
            "text/html": [
              "<dl>\n",
              "\t<dt>$Department</dt>\n",
              "\t\t<dd>'Department'</dd>\n",
              "\t<dt>$Year</dt>\n",
              "\t\t<dd>'Year'</dd>\n",
              "\t<dt>$Salaries</dt>\n",
              "\t\t<dd>'Salaries'</dd>\n",
              "\t<dt>$Retirement</dt>\n",
              "\t\t<dd>'Retirement'</dd>\n",
              "</dl>\n"
            ],
            "text/markdown": "$Department\n:   'Department'\n$Year\n:   'Year'\n$Salaries\n:   'Salaries'\n$Retirement\n:   'Retirement'\n\n\n",
            "text/latex": "\\begin{description}\n\\item[\\$Department] 'Department'\n\\item[\\$Year] 'Year'\n\\item[\\$Salaries] 'Salaries'\n\\item[\\$Retirement] 'Retirement'\n\\end{description}\n",
            "text/plain": [
              "$Department\n",
              "[1] \"Department\"\n",
              "\n",
              "$Year\n",
              "[1] \"Year\"\n",
              "\n",
              "$Salaries\n",
              "[1] \"Salaries\"\n",
              "\n",
              "$Retirement\n",
              "[1] \"Retirement\"\n"
            ]
          },
          "metadata": {}
        }
      ]
    },
    {
      "cell_type": "markdown",
      "source": [
        "##CONDITIONAL"
      ],
      "metadata": {
        "id": "4MUhocNlbR_u"
      }
    },
    {
      "cell_type": "code",
      "source": [
        "new.data <- dataCensus[ which( dataCensus$Total.Benefits > 10000 | dataCensus$Total.Salary > 10000) , ]\n",
        "head(new.data)"
      ],
      "metadata": {
        "colab": {
          "base_uri": "https://localhost:8080/",
          "height": 619
        },
        "id": "6XT1dFNLYv15",
        "outputId": "67cb9e82-a236-48c1-8c18-748efa585153"
      },
      "execution_count": 109,
      "outputs": [
        {
          "output_type": "display_data",
          "data": {
            "text/html": [
              "<table class=\"dataframe\">\n",
              "<caption>A data.frame: 6 × 22</caption>\n",
              "<thead>\n",
              "\t<tr><th></th><th scope=col>Organization.Group.Code</th><th scope=col>Job.Family.Code</th><th scope=col>Job.Code</th><th scope=col>Year.Type</th><th scope=col>Year</th><th scope=col>Organization.Group</th><th scope=col>Department.Code</th><th scope=col>Department</th><th scope=col>Union.Code</th><th scope=col>Union</th><th scope=col>⋯</th><th scope=col>Employee.Identifier</th><th scope=col>Salaries</th><th scope=col>Overtime</th><th scope=col>Other.Salaries</th><th scope=col>Total.Salary</th><th scope=col>Retirement</th><th scope=col>Health.and.Dental</th><th scope=col>Other.Benefits</th><th scope=col>Total.Benefits</th><th scope=col>Total.Compensation</th></tr>\n",
              "\t<tr><th></th><th scope=col>&lt;int&gt;</th><th scope=col>&lt;chr&gt;</th><th scope=col>&lt;chr&gt;</th><th scope=col>&lt;chr&gt;</th><th scope=col>&lt;int&gt;</th><th scope=col>&lt;chr&gt;</th><th scope=col>&lt;chr&gt;</th><th scope=col>&lt;chr&gt;</th><th scope=col>&lt;int&gt;</th><th scope=col>&lt;chr&gt;</th><th scope=col>⋯</th><th scope=col>&lt;int&gt;</th><th scope=col>&lt;dbl&gt;</th><th scope=col>&lt;dbl&gt;</th><th scope=col>&lt;dbl&gt;</th><th scope=col>&lt;dbl&gt;</th><th scope=col>&lt;dbl&gt;</th><th scope=col>&lt;dbl&gt;</th><th scope=col>&lt;dbl&gt;</th><th scope=col>&lt;dbl&gt;</th><th scope=col>&lt;dbl&gt;</th></tr>\n",
              "</thead>\n",
              "<tbody>\n",
              "\t<tr><th scope=row>1</th><td>1</td><td>1000</td><td>1021</td><td>Calendar</td><td>2013</td><td>Public Protection</td><td>ADP</td><td>ADP Adult Probation</td><td>21</td><td>Prof &amp; Tech Engineers - Miscellaneous, Local 21</td><td>⋯</td><td>37730</td><td> 57534.65</td><td>0</td><td><span style=white-space:pre-wrap>    0.00</span></td><td> 57534.65</td><td>11253.16</td><td>11961.34</td><td>4532.63</td><td>27747.13</td><td> 85281.78</td></tr>\n",
              "\t<tr><th scope=row>2</th><td>1</td><td>1000</td><td>1023</td><td>Calendar</td><td>2013</td><td>Public Protection</td><td>ADP</td><td>ADP Adult Probation</td><td>21</td><td>Prof &amp; Tech Engineers - Miscellaneous, Local 21</td><td>⋯</td><td>26574</td><td> 57678.50</td><td>0</td><td><span style=white-space:pre-wrap>    0.00</span></td><td> 57678.50</td><td>10284.88</td><td> 7176.80</td><td>4755.14</td><td>22216.82</td><td> 79895.32</td></tr>\n",
              "\t<tr><th scope=row>3</th><td>1</td><td>1000</td><td>1031</td><td>Calendar</td><td>2013</td><td>Public Protection</td><td>ADP</td><td>ADP Adult Probation</td><td>21</td><td>Prof &amp; Tech Engineers - Miscellaneous, Local 21</td><td>⋯</td><td> 8148</td><td> 63532.93</td><td>0</td><td><span style=white-space:pre-wrap>    0.00</span></td><td> 63532.93</td><td>12495.83</td><td>12918.24</td><td>4702.71</td><td>30116.78</td><td> 93649.71</td></tr>\n",
              "\t<tr><th scope=row>4</th><td>1</td><td>1000</td><td>1054</td><td>Calendar</td><td>2013</td><td>Public Protection</td><td>ADP</td><td>ADP Adult Probation</td><td>21</td><td>Prof &amp; Tech Engineers - Miscellaneous, Local 21</td><td>⋯</td><td>27436</td><td>101274.51</td><td>0</td><td>-7058.59</td><td> 94215.92</td><td>19644.45</td><td>12918.24</td><td>7458.76</td><td>40021.45</td><td>134237.37</td></tr>\n",
              "\t<tr><th scope=row>6</th><td>1</td><td>1000</td><td>1064</td><td>Calendar</td><td>2013</td><td>Public Protection</td><td>ADP</td><td>ADP Adult Probation</td><td>21</td><td>Prof &amp; Tech Engineers - Miscellaneous, Local 21</td><td>⋯</td><td>36223</td><td> 34456.00</td><td>0</td><td><span style=white-space:pre-wrap>    0.00</span></td><td> 34456.00</td><td> 7346.00</td><td> 3827.63</td><td>2579.95</td><td>13753.58</td><td> 48209.58</td></tr>\n",
              "\t<tr><th scope=row>7</th><td>1</td><td>1000</td><td>1070</td><td>Calendar</td><td>2013</td><td>Public Protection</td><td>ADP</td><td>ADP Adult Probation</td><td>21</td><td>Prof &amp; Tech Engineers - Miscellaneous, Local 21</td><td>⋯</td><td>51426</td><td>139889.00</td><td>0</td><td><span style=white-space:pre-wrap>    0.00</span></td><td>139889.00</td><td>26799.23</td><td>12918.24</td><td>9791.54</td><td>49509.01</td><td>189398.01</td></tr>\n",
              "</tbody>\n",
              "</table>\n"
            ],
            "text/markdown": "\nA data.frame: 6 × 22\n\n| <!--/--> | Organization.Group.Code &lt;int&gt; | Job.Family.Code &lt;chr&gt; | Job.Code &lt;chr&gt; | Year.Type &lt;chr&gt; | Year &lt;int&gt; | Organization.Group &lt;chr&gt; | Department.Code &lt;chr&gt; | Department &lt;chr&gt; | Union.Code &lt;int&gt; | Union &lt;chr&gt; | ⋯ ⋯ | Employee.Identifier &lt;int&gt; | Salaries &lt;dbl&gt; | Overtime &lt;dbl&gt; | Other.Salaries &lt;dbl&gt; | Total.Salary &lt;dbl&gt; | Retirement &lt;dbl&gt; | Health.and.Dental &lt;dbl&gt; | Other.Benefits &lt;dbl&gt; | Total.Benefits &lt;dbl&gt; | Total.Compensation &lt;dbl&gt; |\n|---|---|---|---|---|---|---|---|---|---|---|---|---|---|---|---|---|---|---|---|---|---|\n| 1 | 1 | 1000 | 1021 | Calendar | 2013 | Public Protection | ADP | ADP Adult Probation | 21 | Prof &amp; Tech Engineers - Miscellaneous, Local 21 | ⋯ | 37730 |  57534.65 | 0 |     0.00 |  57534.65 | 11253.16 | 11961.34 | 4532.63 | 27747.13 |  85281.78 |\n| 2 | 1 | 1000 | 1023 | Calendar | 2013 | Public Protection | ADP | ADP Adult Probation | 21 | Prof &amp; Tech Engineers - Miscellaneous, Local 21 | ⋯ | 26574 |  57678.50 | 0 |     0.00 |  57678.50 | 10284.88 |  7176.80 | 4755.14 | 22216.82 |  79895.32 |\n| 3 | 1 | 1000 | 1031 | Calendar | 2013 | Public Protection | ADP | ADP Adult Probation | 21 | Prof &amp; Tech Engineers - Miscellaneous, Local 21 | ⋯ |  8148 |  63532.93 | 0 |     0.00 |  63532.93 | 12495.83 | 12918.24 | 4702.71 | 30116.78 |  93649.71 |\n| 4 | 1 | 1000 | 1054 | Calendar | 2013 | Public Protection | ADP | ADP Adult Probation | 21 | Prof &amp; Tech Engineers - Miscellaneous, Local 21 | ⋯ | 27436 | 101274.51 | 0 | -7058.59 |  94215.92 | 19644.45 | 12918.24 | 7458.76 | 40021.45 | 134237.37 |\n| 6 | 1 | 1000 | 1064 | Calendar | 2013 | Public Protection | ADP | ADP Adult Probation | 21 | Prof &amp; Tech Engineers - Miscellaneous, Local 21 | ⋯ | 36223 |  34456.00 | 0 |     0.00 |  34456.00 |  7346.00 |  3827.63 | 2579.95 | 13753.58 |  48209.58 |\n| 7 | 1 | 1000 | 1070 | Calendar | 2013 | Public Protection | ADP | ADP Adult Probation | 21 | Prof &amp; Tech Engineers - Miscellaneous, Local 21 | ⋯ | 51426 | 139889.00 | 0 |     0.00 | 139889.00 | 26799.23 | 12918.24 | 9791.54 | 49509.01 | 189398.01 |\n\n",
            "text/latex": "A data.frame: 6 × 22\n\\begin{tabular}{r|lllllllllllllllllllll}\n  & Organization.Group.Code & Job.Family.Code & Job.Code & Year.Type & Year & Organization.Group & Department.Code & Department & Union.Code & Union & ⋯ & Employee.Identifier & Salaries & Overtime & Other.Salaries & Total.Salary & Retirement & Health.and.Dental & Other.Benefits & Total.Benefits & Total.Compensation\\\\\n  & <int> & <chr> & <chr> & <chr> & <int> & <chr> & <chr> & <chr> & <int> & <chr> & ⋯ & <int> & <dbl> & <dbl> & <dbl> & <dbl> & <dbl> & <dbl> & <dbl> & <dbl> & <dbl>\\\\\n\\hline\n\t1 & 1 & 1000 & 1021 & Calendar & 2013 & Public Protection & ADP & ADP Adult Probation & 21 & Prof \\& Tech Engineers - Miscellaneous, Local 21 & ⋯ & 37730 &  57534.65 & 0 &     0.00 &  57534.65 & 11253.16 & 11961.34 & 4532.63 & 27747.13 &  85281.78\\\\\n\t2 & 1 & 1000 & 1023 & Calendar & 2013 & Public Protection & ADP & ADP Adult Probation & 21 & Prof \\& Tech Engineers - Miscellaneous, Local 21 & ⋯ & 26574 &  57678.50 & 0 &     0.00 &  57678.50 & 10284.88 &  7176.80 & 4755.14 & 22216.82 &  79895.32\\\\\n\t3 & 1 & 1000 & 1031 & Calendar & 2013 & Public Protection & ADP & ADP Adult Probation & 21 & Prof \\& Tech Engineers - Miscellaneous, Local 21 & ⋯ &  8148 &  63532.93 & 0 &     0.00 &  63532.93 & 12495.83 & 12918.24 & 4702.71 & 30116.78 &  93649.71\\\\\n\t4 & 1 & 1000 & 1054 & Calendar & 2013 & Public Protection & ADP & ADP Adult Probation & 21 & Prof \\& Tech Engineers - Miscellaneous, Local 21 & ⋯ & 27436 & 101274.51 & 0 & -7058.59 &  94215.92 & 19644.45 & 12918.24 & 7458.76 & 40021.45 & 134237.37\\\\\n\t6 & 1 & 1000 & 1064 & Calendar & 2013 & Public Protection & ADP & ADP Adult Probation & 21 & Prof \\& Tech Engineers - Miscellaneous, Local 21 & ⋯ & 36223 &  34456.00 & 0 &     0.00 &  34456.00 &  7346.00 &  3827.63 & 2579.95 & 13753.58 &  48209.58\\\\\n\t7 & 1 & 1000 & 1070 & Calendar & 2013 & Public Protection & ADP & ADP Adult Probation & 21 & Prof \\& Tech Engineers - Miscellaneous, Local 21 & ⋯ & 51426 & 139889.00 & 0 &     0.00 & 139889.00 & 26799.23 & 12918.24 & 9791.54 & 49509.01 & 189398.01\\\\\n\\end{tabular}\n",
            "text/plain": [
              "  Organization.Group.Code Job.Family.Code Job.Code Year.Type Year\n",
              "1 1                       1000            1021     Calendar  2013\n",
              "2 1                       1000            1023     Calendar  2013\n",
              "3 1                       1000            1031     Calendar  2013\n",
              "4 1                       1000            1054     Calendar  2013\n",
              "6 1                       1000            1064     Calendar  2013\n",
              "7 1                       1000            1070     Calendar  2013\n",
              "  Organization.Group Department.Code Department          Union.Code\n",
              "1 Public Protection  ADP             ADP Adult Probation 21        \n",
              "2 Public Protection  ADP             ADP Adult Probation 21        \n",
              "3 Public Protection  ADP             ADP Adult Probation 21        \n",
              "4 Public Protection  ADP             ADP Adult Probation 21        \n",
              "6 Public Protection  ADP             ADP Adult Probation 21        \n",
              "7 Public Protection  ADP             ADP Adult Probation 21        \n",
              "  Union                                           ⋯ Employee.Identifier\n",
              "1 Prof & Tech Engineers - Miscellaneous, Local 21 ⋯ 37730              \n",
              "2 Prof & Tech Engineers - Miscellaneous, Local 21 ⋯ 26574              \n",
              "3 Prof & Tech Engineers - Miscellaneous, Local 21 ⋯  8148              \n",
              "4 Prof & Tech Engineers - Miscellaneous, Local 21 ⋯ 27436              \n",
              "6 Prof & Tech Engineers - Miscellaneous, Local 21 ⋯ 36223              \n",
              "7 Prof & Tech Engineers - Miscellaneous, Local 21 ⋯ 51426              \n",
              "  Salaries  Overtime Other.Salaries Total.Salary Retirement Health.and.Dental\n",
              "1  57534.65 0            0.00        57534.65    11253.16   11961.34         \n",
              "2  57678.50 0            0.00        57678.50    10284.88    7176.80         \n",
              "3  63532.93 0            0.00        63532.93    12495.83   12918.24         \n",
              "4 101274.51 0        -7058.59        94215.92    19644.45   12918.24         \n",
              "6  34456.00 0            0.00        34456.00     7346.00    3827.63         \n",
              "7 139889.00 0            0.00       139889.00    26799.23   12918.24         \n",
              "  Other.Benefits Total.Benefits Total.Compensation\n",
              "1 4532.63        27747.13        85281.78         \n",
              "2 4755.14        22216.82        79895.32         \n",
              "3 4702.71        30116.78        93649.71         \n",
              "4 7458.76        40021.45       134237.37         \n",
              "6 2579.95        13753.58        48209.58         \n",
              "7 9791.54        49509.01       189398.01         "
            ]
          },
          "metadata": {}
        }
      ]
    },
    {
      "cell_type": "markdown",
      "source": [
        "Data of employees who received total benefits and salary of more than $10,000. "
      ],
      "metadata": {
        "id": "9oaFIa68a9Bt"
      }
    },
    {
      "cell_type": "markdown",
      "source": [
        "##SUMMARY\n",
        "\n",
        "Analysis of this Data depicts how the number of employees have varied over the years. There have been employed almost in all departments under various job roles. And Alongside salary, other perks like Health and Dental, Retirment funds and other compensation have also been taken care of. People have been doing overtime and paid accordingly. "
      ],
      "metadata": {
        "id": "Mose2zAWVnpM"
      }
    },
    {
      "cell_type": "markdown",
      "source": [
        "##RECOMMENDATIONS\n"
      ],
      "metadata": {
        "id": "2B_93BZTVppt"
      }
    },
    {
      "cell_type": "markdown",
      "source": [
        "San Francisco Chronicle newspaper is recommended to publish the insights from the report. Detailed analysis of number of people employed under various departments, change of rate of employement and salaries from the year 2013 to 2020 must also be notified. "
      ],
      "metadata": {
        "id": "F_5RfobIYFmz"
      }
    }
  ]
}